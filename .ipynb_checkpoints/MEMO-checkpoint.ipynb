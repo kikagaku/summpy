{
 "cells": [
  {
   "cell_type": "markdown",
   "metadata": {},
   "source": [
    "#### MEMO\n",
    "\n",
    "docker起動時に`5000番`ポートも共有しなければいけない。\n",
    "\n",
    "\n",
    "`host=\"0.0.0.0\"`にしないとつながらない\n",
    "app.runメソッドでhost='0.0.0.0'を渡すと, 全てのアドレスからの要求を受け付けます.\n",
    "\n",
    "\n",
    "\n",
    "```bash\n",
    "docker run -it -p 8888:8888 -p 5000:5000 -v /Users/kikagaku/Desktop/kikagaku_app/text_summary:/home --name=\"summary_app\" kikagaku/handson:v3.0 /bin/bash\n",
    "```\n",
    "\n",
    "```bash\n",
    "pip3 install flask\n",
    "```\n",
    "\n",
    "`flask`が入っていないので、インストールしましょう。\n",
    "\n",
    "\n",
    "\n",
    "\n",
    "ターミナルにて`summpy`フォルダと同階層の場所までディレクトリを移動し、以下のコマンドを打ちましょう。\n",
    "\n",
    "```\n",
    "zip -r summpy.zip ./summpy\n",
    "```\n",
    "\n",
    "上記は`summpy`というフォルダを`summpy.zip`という名前で圧縮するという意味です。\n",
    "そうるすると、`summpy.zip`といzipファイルが作成されていると思うので、ダウンロードしましょう。\n",
    "\n",
    "\n",
    "現在作成中の`app.py`と同階層の場所に`summpy.zip`をアップロードし、解凍してください。  \n",
    "また、前回作成した文章要約用のpythonファイル`summary.py`も同階層にアップロードしておきましょう。\n",
    "\n",
    "\n",
    "まず、新規でJupyter notebookを作成し、`summary.py`が動くかを確認しておきましょう。\n",
    "\n",
    "必要であれば、以下のライブラリをインストールしましょう。\n"
   ]
  },
  {
   "cell_type": "code",
   "execution_count": null,
   "metadata": {},
   "outputs": [],
   "source": []
  },
  {
   "cell_type": "code",
   "execution_count": null,
   "metadata": {},
   "outputs": [],
   "source": []
  }
 ],
 "metadata": {
  "kernelspec": {
   "display_name": "Python 3",
   "language": "python",
   "name": "python3"
  },
  "language_info": {
   "codemirror_mode": {
    "name": "ipython",
    "version": 3
   },
   "file_extension": ".py",
   "mimetype": "text/x-python",
   "name": "python",
   "nbconvert_exporter": "python",
   "pygments_lexer": "ipython3",
   "version": "3.6.4"
  }
 },
 "nbformat": 4,
 "nbformat_minor": 2
}
