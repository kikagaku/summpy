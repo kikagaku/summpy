{
 "cells": [
  {
   "cell_type": "markdown",
   "metadata": {},
   "source": [
    "# Summpy"
   ]
  },
  {
   "cell_type": "code",
   "execution_count": 1,
   "metadata": {},
   "outputs": [],
   "source": [
    "with open('kikagaku.txt') as f:\n",
    "    text = ''.join(f.readlines())"
   ]
  },
  {
   "cell_type": "code",
   "execution_count": 3,
   "metadata": {},
   "outputs": [
    {
     "data": {
      "text/plain": [
       "'本日2017年12月31日をもって、株式会社キカガクの１期目が終了します。\\n会社を創業して右も左も分からない私にとって、多くの方の支援があってこその１年でした。\\nお会い出来たみなさま、SNSで支えてく'"
      ]
     },
     "execution_count": 3,
     "metadata": {},
     "output_type": "execute_result"
    }
   ],
   "source": [
    "text[:100]"
   ]
  },
  {
   "cell_type": "code",
   "execution_count": 4,
   "metadata": {},
   "outputs": [],
   "source": [
    "from summpy.lexrank import summarize"
   ]
  },
  {
   "cell_type": "code",
   "execution_count": 11,
   "metadata": {},
   "outputs": [],
   "source": [
    "sentences, debug_info = summarize(text, sent_limit=5)"
   ]
  },
  {
   "cell_type": "code",
   "execution_count": 12,
   "metadata": {},
   "outputs": [
    {
     "data": {
      "text/plain": [
       "['このように、いまではキカガクが『AI教育の会社』として紹介される場面が多くありますが、会社の方針として、教育だけではなく、機械学習のPDCAを回す工程の全体をスコープとして定めました。\\n\\n',\n",
       " 'その時にできた最初のセミナーが『人工知能・機械学習 脱ブラックボックスセミナー』です。\\n\\n',\n",
       " '機械学習を専攻している自分としては最初から全自動でこのようなイベント運営をできればと思う気持ちもあったのですが、\\n',\n",
       " '７月からはじまったDeep Learning ハンズオンセミナーが一段落して、今西くんにセミナー講義も任せられるようになり、時間に余裕ができたため、他の人からお話を頂いていたイベント登壇やセミナー協業を進めていきました。\\n\\n',\n",
       " '日経BigData – 「機械学習のデータはそもそも企業内にない、地道に整える企業が優位に立てる」、AI活用人材育成のキカガク吉崎社長（2017.10.20）\\n']"
      ]
     },
     "execution_count": 12,
     "metadata": {},
     "output_type": "execute_result"
    }
   ],
   "source": [
    "sentences"
   ]
  },
  {
   "cell_type": "code",
   "execution_count": 13,
   "metadata": {},
   "outputs": [
    {
     "name": "stdout",
     "output_type": "stream",
     "text": [
      "このように、いまではキカガクが『AI教育の会社』として紹介される場面が多くありますが、会社の方針として、教育だけではなく、機械学習のPDCAを回す工程の全体をスコープとして定めました。\n",
      "\n",
      "\n",
      "- - - - - - - - - - \n",
      "その時にできた最初のセミナーが『人工知能・機械学習 脱ブラックボックスセミナー』です。\n",
      "\n",
      "\n",
      "- - - - - - - - - - \n",
      "機械学習を専攻している自分としては最初から全自動でこのようなイベント運営をできればと思う気持ちもあったのですが、\n",
      "\n",
      "- - - - - - - - - - \n",
      "７月からはじまったDeep Learning ハンズオンセミナーが一段落して、今西くんにセミナー講義も任せられるようになり、時間に余裕ができたため、他の人からお話を頂いていたイベント登壇やセミナー協業を進めていきました。\n",
      "\n",
      "\n",
      "- - - - - - - - - - \n",
      "日経BigData – 「機械学習のデータはそもそも企業内にない、地道に整える企業が優位に立てる」、AI活用人材育成のキカガク吉崎社長（2017.10.20）\n",
      "\n",
      "- - - - - - - - - - \n"
     ]
    }
   ],
   "source": [
    "for sentence in sentences:\n",
    "    print(sentence)\n",
    "    print('- ' * 10)"
   ]
  },
  {
   "cell_type": "code",
   "execution_count": null,
   "metadata": {},
   "outputs": [],
   "source": []
  }
 ],
 "metadata": {
  "kernelspec": {
   "display_name": "Python 3",
   "language": "python",
   "name": "python3"
  },
  "language_info": {
   "codemirror_mode": {
    "name": "ipython",
    "version": 3
   },
   "file_extension": ".py",
   "mimetype": "text/x-python",
   "name": "python",
   "nbconvert_exporter": "python",
   "pygments_lexer": "ipython3",
   "version": "3.7.3"
  }
 },
 "nbformat": 4,
 "nbformat_minor": 2
}
